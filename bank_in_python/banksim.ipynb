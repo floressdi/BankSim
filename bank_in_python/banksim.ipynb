{
 "cells": [
  {
   "cell_type": "code",
   "execution_count": 1,
   "metadata": {},
   "outputs": [
    {
     "name": "stdout",
     "output_type": "stream",
     "text": [
      "¡Hola a continuacion se muestran los resultados de la simulación! 😀 \n",
      "\n",
      "Tiempo total en el sistema de todos los clientes: 239.14 minutos\n",
      "Tiempo promedio que un cliente pasa en el sistema: 0.68 minutos\n"
     ]
    },
    {
     "data": {
      "image/png": "[encoded data removed]",
      "text/plain": [
       "<Figure size 432x288 with 1 Axes>"
      ]
     },
     "metadata": {
      "needs_background": "light"
     },
     "output_type": "display_data"
    },
    {
     "name": "stdout",
     "output_type": "stream",
     "text": [
      "Cantidad promedio de clientes en el sistema: 43.98\n",
      "Cantidad total de clientes que ingresaron en 8 horas: 352\n"
     ]
    },
    {
     "data": {
      "image/png": "[encoded data removed]",
      "text/plain": [
       "<Figure size 432x288 with 1 Axes>"
      ]
     },
     "metadata": {
      "needs_background": "light"
     },
     "output_type": "display_data"
    }
   ],
   "source": [
    "import heapq\n",
    "import math\n",
    "import matplotlib.pyplot as plt\n",
    "\n",
    "\n",
    "# Configuración de los parámetros del generador congruencial multiplicativo\n",
    "semilla = 97\n",
    "constante_multiplicativa = 109\n",
    "modulo = 32768\n",
    "\n",
    "# Función para generar números aleatorios utilizando el método congruencial multiplicativo\n",
    "def generar_aleatorio():\n",
    "    global semilla\n",
    "    semilla = (constante_multiplicativa * semilla) % modulo\n",
    "    return semilla / modulo\n",
    "\n",
    "# Configuración de los parámetros del generador de llegadas\n",
    "tasa_llegada = 60 / 40  # convertir a llegadas por minuto\n",
    "\n",
    "# Función para generar tiempo entre llegadas\n",
    "def generar_llegada():\n",
    "    llegada = -1 / tasa_llegada * math.log(generar_aleatorio())\n",
    "    return llegada \n",
    "\n",
    "# Configuración de los parámetros del generador de tiempos de transacciones\n",
    "a = 0  # Tiempo mínimo entre transacciones\n",
    "b = 1# Tiempo máximo entre transacciones\n",
    "\n",
    "# Función para generar tiempo de transacciones entre el cajero y el cliente.\n",
    "def generar_transaccion():\n",
    "    global a \n",
    "    global b \n",
    "    tiempo_transaccion = a + (b - a) * generar_aleatorio()\n",
    "    return tiempo_transaccion\n",
    "\n",
    "\n",
    "# Configuración de los parámetros de la simulación\n",
    "num_atms = 3\n",
    "cola = []\n",
    "reloj = 0\n",
    "siguiente_tiempo_llegada = generar_llegada()\n",
    "siguiente_tiempo_salida = [float('inf')] * num_atms\n",
    "atms_ocupados = 0\n",
    "\n",
    "# Inicializar variables para el cálculo de estadísticas\n",
    "tiempo_total_en_sistema = 0\n",
    "num_total_clientes = 0\n",
    "\n",
    "# Mensajes de la simulación\n",
    "bienvenida = \"¡Hola a continuacion se muestran los resultados de la simulación! 😀 \"\n",
    "print(bienvenida)\n",
    "\n",
    "# Ejecutar la simulación durante 8 horas (480 minutos)\n",
    "tiempo_simulacion = 480\n",
    "while reloj < tiempo_simulacion:\n",
    "    # Avanzar el reloj al siguiente tiempo de evento\n",
    "    reloj = min(siguiente_tiempo_llegada + 1, min(siguiente_tiempo_salida))\n",
    "\n",
    "    if siguiente_tiempo_llegada < min(siguiente_tiempo_salida):\n",
    "        # Llega un cliente\n",
    "        # print(\"----> Llegó un cliente\")\n",
    "        if atms_ocupados < num_atms:\n",
    "            # Asignar un cajero automático disponible al cliente\n",
    "            atms_ocupados += 1\n",
    "            cajero = siguiente_tiempo_salida.index(float('inf'))\n",
    "            tiempo_servicio = generar_transaccion()\n",
    "            siguiente_tiempo_salida[cajero] = reloj + tiempo_servicio\n",
    "            # print(\"*** Un cliente utilizó un cajero\")\n",
    "        else:\n",
    "            # Todos los cajeros automáticos están ocupados, el cliente se une a la cola\n",
    "            heapq.heappush(cola, reloj)\n",
    "            # print(\"## Un cliente se unió a la cola de espera\")\n",
    "        # Programar la próxima llegada\n",
    "        siguiente_tiempo_llegada = reloj + generar_llegada()\n",
    "    else:\n",
    "        # Un cliente termina su transacción\n",
    "        num_total_clientes += 1\n",
    "        tiempo_total_en_sistema += min(siguiente_tiempo_salida) - siguiente_tiempo_llegada\n",
    "        cajero = siguiente_tiempo_salida.index(min(siguiente_tiempo_salida))\n",
    "        siguiente_tiempo_salida[cajero] = float('inf')\n",
    "        if len(cola) > 0:\n",
    "            # Asignar el próximo cliente en la cola al cajero automático\n",
    "            siguiente_tiempo_cliente = heapq.heappop(cola)\n",
    "            tiempo_servicio = generar_transaccion()\n",
    "            siguiente_tiempo_salida[cajero] = max(reloj, siguiente_tiempo_cliente) + tiempo_servicio\n",
    "            # print(\"*** Un cliente utilizó un cajero\")\n",
    "        else:\n",
    "            # No hay clientes en la cola, el cajero automático queda libre\n",
    "            atms_ocupados -= 1\n",
    "            # print(\"<- Un cliente dejó el cajero libre\")\n",
    "\n",
    "\n",
    "# Calcular las estadísticas\n",
    "tiempo_promedio_en_sistema = abs(tiempo_total_en_sistema / num_total_clientes)\n",
    "num_promedio_clientes = num_total_clientes / (reloj / 60)\n",
    "\n",
    "# Imprimir los resultados\n",
    "print()  # Salto de línea\n",
    "\n",
    "#Graficas\n",
    "print(f\"Tiempo total en el sistema de todos los clientes: {abs(tiempo_total_en_sistema):.2f} minutos\")\n",
    "print(f\"Tiempo promedio que un cliente pasa en el sistema: {tiempo_promedio_en_sistema:.2f} minutos\")\n",
    "concepto = ['Tiempo total en el sistema de todos los clientes', 'Tiempo promedio que un cliente pasa en el sistema']\n",
    "tiempos = [abs(tiempo_total_en_sistema), tiempo_promedio_en_sistema]\n",
    "plt.plot(concepto, tiempos,  marker=\"o\")\n",
    "plt.show()\n",
    "\n",
    "print(f\"Cantidad promedio de clientes en el sistema: {num_promedio_clientes:.2f}\")\n",
    "print(f\"Cantidad total de clientes que ingresaron en 8 horas: {num_total_clientes}\")\n",
    "# print(f\"Numero de veces que se utilizaron los cajeros: {abs(tiempo_total_en_sistema):.2f}\")\n",
    "\n",
    "conceptocantidades =['Clientes en sistema', 'Promedio de clientes en 8 horas']\n",
    "cantidades =[num_total_clientes, num_promedio_clientes,]\n",
    "plt.bar(conceptocantidades, cantidades)\n",
    "plt.show()\n"
   ]
  }
 ],
 "metadata": {
  "kernelspec": {
   "display_name": "Python 3",
   "language": "python",
   "name": "python3"
  },
  "language_info": {
   "name": "python",
   "version": "3.8.10"
  },
  "orig_nbformat": 4
 },
 "nbformat": 4,
 "nbformat_minor": 2
}
